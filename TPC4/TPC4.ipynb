{
 "cells": [
  {
   "cell_type": "code",
   "execution_count": 5,
   "metadata": {},
   "outputs": [],
   "source": [
    "def criarFracao (num, denom):\n",
    "    return (num, denom)\n",
    "\n",
    "\n",
    "def verFracao(f):\n",
    "    print(str(f[0])+'/'+str(f[1]))\n",
    "    \n",
    "def mdc(a,b):\n",
    "    if a< b:\n",
    "        return mdc(b,a)\n",
    "    elif a%b == 0:\n",
    "        return b\n",
    "    else:\n",
    "        return mdc(a,a%b)  \n",
    "    \n",
    "def simplificarFracao(f):\n",
    "    num,denom = f\n",
    "    a = mdc (num, denom)\n",
    "    return (num/a, denom/a)\n",
    "\n",
    "\n",
    "def somarFracao(f1,f2):\n",
    "    n1,d1=f1\n",
    "    n2,d2=f2\n",
    "    return simplificarFracao(criarFracao(n1*d2+n2*d1,d1*d2))\n"
   ]
  },
  {
   "cell_type": "code",
   "execution_count": null,
   "metadata": {},
   "outputs": [],
   "source": [
    "def menu():\n",
    "    \n",
    "    opcao=int(input('''\n",
    "                O que deseja fazer:\n",
    "                \n",
    "                (1) Criar Fração\n",
    "                \n",
    "                (2) Simplificar Fração\n",
    "                \n",
    "                (3) Somar Frações\n",
    "                \n",
    "                (4) Subtrair Frações\n",
    "                \n",
    "                (5) Multiplicar Frações\n",
    "                \n",
    "                (6) Dividir Funções\n",
    "                \n",
    "                (7) Gerar lista com n frações\n",
    "                \n",
    "                (8) Somar as frações da lista\n",
    "                \n",
    "                (9) Saber a MAIOR fração da lista\n",
    "                \n",
    "                (0) SAIR\n",
    "                \n",
    "                '''))\n",
    "                \n",
    "                \n",
    "    if opcao == 1:\n",
    "        num=int(input('Numerador: '))\n",
    "        denom = int(input('Denominador: ')\n",
    "        f1 = criarFracao(num,denom)\n",
    "        verFracao(f1)"
   ]
  }
 ],
 "metadata": {
  "kernelspec": {
   "display_name": "Python 3",
   "language": "python",
   "name": "python3"
  },
  "language_info": {
   "codemirror_mode": {
    "name": "ipython",
    "version": 3
   },
   "file_extension": ".py",
   "mimetype": "text/x-python",
   "name": "python",
   "nbconvert_exporter": "python",
   "pygments_lexer": "ipython3",
   "version": "3.8.3"
  }
 },
 "nbformat": 4,
 "nbformat_minor": 4
}
