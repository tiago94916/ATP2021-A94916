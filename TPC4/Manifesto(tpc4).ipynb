{
 "cells": [
  {
   "cell_type": "markdown",
   "metadata": {},
   "source": [
    "# ATP 2020/21"
   ]
  },
  {
   "cell_type": "markdown",
   "metadata": {},
   "source": [
    "## TPC4 - Menu com funções de frações"
   ]
  },
  {
   "cell_type": "markdown",
   "metadata": {},
   "source": [
    "* **Autor**: João Tiago Aleixo Ferreira\n",
    "* **Supervisor**: José Carlos Ramalho, www.di.uminho.pt/~jcr/\n",
    "* **Identificador**: TPC4\n",
    "* **Título**: \"Menu de Sort\"\n",
    "* **Data início**: 2020-10-21\n",
    "* **Data fim**: 2020-10-21"
   ]
  },
  {
   "cell_type": "markdown",
   "metadata": {},
   "source": [
    "## Resumo:"
   ]
  },
  {
   "cell_type": "markdown",
   "metadata": {},
   "source": [
    "A linguagem de programação utilizada para a realização deste projeto foi python e este encontra-se no repositório ATP2021-a94916 do GitHub, na pasta TPC4. Esta pasta contém dois ficheiros: TPC4.ipynb e Manifesto(tpc4).ipynb.\n",
    "\n",
    "O ficheiro TPC4.ipynb contém o código fonte que resolve o problema proposto e oferece ao utilizador diversas funcionalidades relacionadas com frações e listas."
   ]
  },
  {
   "cell_type": "markdown",
   "metadata": {},
   "source": [
    "* Primeiramente optei por escrever o código referente a cada uma das funções que foram usadas na realização deste menu interativo. (**'criarFracao'**,**'verFracao'**,**'mdc'**,**'simplificarFracao'**,**'somarFracao'**,**'subtrairFracao'**,**'multiplicarFracao'**,**'dividirFracao'**,**'gerarListaFrac'**,**'somarFracLista'**,**'maiorFracLista'**,**'menorFracLista'**,**'menu'**)\n",
    "\n",
    "* Em seguida, pedi ao utilizador que escolhesse a funcionalidade que deseja usar e associei-a à respetiva função, através de uma estrutura condicional (if/elif/else).\n",
    "\n",
    "* O utilizador pode optar por por aceder a funçoes como o de criar uma funçao, simplificar uma função, somar, subtrair multiplicar e dividir funções. Para além disso, o user vai poder gerar uma lista aleatória, assim como somar as frações dessa mesma lista, saber a maior e menor fração da lista. \n",
    "\n",
    "* Assim que o utilizador deixar de querer operar, escolhe a opção 0 e programa deixa de correr.\n",
    "\n",
    "\n",
    "\n"
   ]
  },
  {
   "cell_type": "code",
   "execution_count": null,
   "metadata": {},
   "outputs": [],
   "source": []
  }
 ],
 "metadata": {
  "kernelspec": {
   "display_name": "Python 3",
   "language": "python",
   "name": "python3"
  },
  "language_info": {
   "codemirror_mode": {
    "name": "ipython",
    "version": 3
   },
   "file_extension": ".py",
   "mimetype": "text/x-python",
   "name": "python",
   "nbconvert_exporter": "python",
   "pygments_lexer": "ipython3",
   "version": "3.8.3"
  }
 },
 "nbformat": 4,
 "nbformat_minor": 4
}
