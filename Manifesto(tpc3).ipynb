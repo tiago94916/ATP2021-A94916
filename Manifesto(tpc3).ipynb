{
 "cells": [
  {
   "cell_type": "markdown",
   "metadata": {},
   "source": [
    "# ATP 2020/21\n"
   ]
  },
  {
   "cell_type": "markdown",
   "metadata": {},
   "source": [
    "## TPC3 - Bubble sort"
   ]
  },
  {
   "cell_type": "markdown",
   "metadata": {},
   "source": [
    "* **Autor**: João Tiago Aleixo Ferreira\n",
    "* **Supervisor**: José Carlos Ramalho, www.di.uminho.pt/~jcr/\n",
    "* **Identificador**: TPC3\n",
    "* **Título**: \"Bubble Sort\"\n",
    "* **Data início**: 2020-10-21\n",
    "* **Data fim**: 2020-10-21"
   ]
  },
  {
   "cell_type": "markdown",
   "metadata": {},
   "source": [
    "## Resumo:"
   ]
  },
  {
   "cell_type": "markdown",
   "metadata": {},
   "source": [
    "A linguagem de programação utilizada para a realização deste projeto foi python e este encontra-se no repositório ATP2021-a94916 do GitHub, na pasta TPC3. Esta pasta contém dois ficheiros: TPC3.ipynb e Manifesto(tpc3).ipynb.\n",
    "\n",
    "O ficheiro TPC3.ipynb contém o código fonte que resolve o problema proposto e permite ordenar uma lista random através de um processo chamado \"**Bubble Sort**\"."
   ]
  },
  {
   "cell_type": "markdown",
   "metadata": {},
   "source": [
    "* Primeiramente importamos o método **randint** e limitamo-lo a escolher números entre 0-100, para que possamos ter uma lista (com o número de elementos escolhido pelo utilizador) com números random que não sejam muito grandes (0-100).\n",
    "* Começamos por criar uma função (**'bubble'**) que concentre todo o nosso código\n",
    "* Posteriormente corremos a lista e definimos uma variável **troca** como **falsa** para que assim que não haja mais nenhuma troca a realizar dentro da lista possamos parar de correr a lista e imprimi-la já devidamente ordenada.\n",
    "* Definimos também uma variável **'j'** como **zero** para que mais à frente possamos ir acrescentando uma unidade à variável e assim ir correndo a lista conforme desejado.\n",
    "* Assim, enquanto a variável **'j'** ,que definimos anteriormente, for menor que o comprimento da lista -1 unidade visto que se **'j'** adquirir o último valor da lista, não o vai poder comparar com o seguinte, dado que não há nenhum número a seguir. Assim, **'j'** vai adquirindo os sucessivos valores que a lista admite (**j=j+1**), até chegar ao penúltimo.\n",
    "* Depois efetuamos a troca entre elementos caso o elemento com **maior índice seja menor que o elemento com índice menor**. \n",
    "* Após cada troca imprimimos a lista par o utilizador conseguir acompanhar todas as alterações.\n",
    "* Quando acontece uam troca definimos a variável **troca** como **'True'**\n",
    "* Assim que o código percorrer a lista e não fizer nenhuma alteração define a **troca** como **'False'** e imprime novamente a lista ordenada."
   ]
  }
 ],
 "metadata": {
  "kernelspec": {
   "display_name": "Python 3",
   "language": "python",
   "name": "python3"
  },
  "language_info": {
   "codemirror_mode": {
    "name": "ipython",
    "version": 3
   },
   "file_extension": ".py",
   "mimetype": "text/x-python",
   "name": "python",
   "nbconvert_exporter": "python",
   "pygments_lexer": "ipython3",
   "version": "3.8.3"
  }
 },
 "nbformat": 4,
 "nbformat_minor": 4
}
