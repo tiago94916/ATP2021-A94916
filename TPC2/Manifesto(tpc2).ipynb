{
 "cells": [
  {
   "cell_type": "markdown",
   "metadata": {},
   "source": [
    "# ATP 2020/21\n",
    "\n",
    "## TPC2 - Jogo do adivinha\n",
    "\n",
    "* **Autor**: João Tiago Aleixo Ferreira\n",
    "* **Supervisor**: José Carlos Ramalho, www.di.uminho.pt/~jcr/\n",
    "* **Identificador**: TPC3\n",
    "* **Título**: \"Bubble Sort\"\n",
    "* **Data início**: 2020-10-21\n",
    "* **Data fim**: 2020-10-21"
   ]
  },
  {
   "cell_type": "markdown",
   "metadata": {},
   "source": [
    "## Resumo:\n",
    "\n",
    "A linguagem de programação utilizada para a realização deste projeto foi python e este encontra-se no repositório ATP2021-a94916 do GitHub, na pasta TPC2. Esta pasta contém dois ficheiros: TPC2.ipynb e Manifesto(tpc2).ipynb.\n",
    "\n",
    "O ficheiro TPC3.ipynb contém o código fonte que resolve o problema proposto e permite jogar o \"jogo do adivinha\" que consiste num programa que tenta adivinhar o número em que o utilizador pensou no menor número de jogadas possíveis."
   ]
  },
  {
   "cell_type": "markdown",
   "metadata": {},
   "source": [
    "* Após fazer uma breve apresentação ao jogo em questão, começamos por pedir ao utilizador o número de 0-100 em que pensou.\n",
    "\n",
    "* Como queremos no fim saber em quantas tentativas o computador adivinhou o  número , abrimos uma variável '**tentativa**' com o valor zero.\n",
    "\n",
    "* Protegemos o nosso programa caso o utilizador introduza ou número maior que 100 ou menor que zero com um **print de 'ERRO!'**.\n",
    "\n",
    "* Seguidamente iniciamos 3 variáveis sendo duas delas os limites inferior e superior e o outro o número do meio, que será aquele a ser apresentado como opção ao utilizador, variando conforme o utilizador nos dê a indicação que o número em que pensou é maior ou menor àquele apresentado pelo computador. (P.ex.: **lim inf=0 e lim sup=100, o valor do meio é 50; se o lim inf=0 e lim sup=50, valor do meio será 25**)\n",
    "\n",
    "* Após perguntar ao utilizador se o número em que pensou é menor ou maior que o apresentado, temos duas hipóteses: se for '**+**' o **limite superior mantém-se o mesmo e o limite inferior passa a ser o número do meio**, sendo esta a base da divisão binária. Caso o usuário escolha '**-**', o **limite inferior mantém-se o mesmo e o limite superior passa a ser o número do meio**. Esta dinâmica mantém-se até que o utilizador nos diga que os números coincidem e cada vez que esta alteração de limites se dá, estamos perante uma nova tentativa que será sempre contabilizado no fim do ciclo.\n",
    "\n",
    "* Assim que o utilizador diga que a resposta está correta, é mostrada em quantas tentativas é que o computador conseguiu adivinhar o número. Caso o número escolhido seja entre 0 e 100, no máximo o computador adivinha o número em 7 tentativas.\n",
    "\n"
   ]
  }
 ],
 "metadata": {
  "kernelspec": {
   "display_name": "Python 3",
   "language": "python",
   "name": "python3"
  },
  "language_info": {
   "codemirror_mode": {
    "name": "ipython",
    "version": 3
   },
   "file_extension": ".py",
   "mimetype": "text/x-python",
   "name": "python",
   "nbconvert_exporter": "python",
   "pygments_lexer": "ipython3",
   "version": "3.8.3"
  }
 },
 "nbformat": 4,
 "nbformat_minor": 4
}
