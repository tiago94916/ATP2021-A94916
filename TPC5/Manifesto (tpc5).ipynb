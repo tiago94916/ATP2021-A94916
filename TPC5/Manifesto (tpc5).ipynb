{
 "cells": [
  {
   "cell_type": "markdown",
   "metadata": {},
   "source": [
    "# ATP 2020/21"
   ]
  },
  {
   "cell_type": "markdown",
   "metadata": {},
   "source": [
    "## TPC5 - Menu de operações com polinómios"
   ]
  },
  {
   "cell_type": "markdown",
   "metadata": {},
   "source": [
    "* **Autor**: João Tiago Aleixo Ferreira\n",
    "* **Supervisor**: José Carlos Ramalho, www.di.uminho.pt/~jcr/\n",
    "* **Identificador**: TPC5\n",
    "* **Título**: \"Menu de Operações com polinómios\"\n",
    "* **Data início**: 2020-11-08\n",
    "* **Data fim**: 2020-11-13"
   ]
  },
  {
   "cell_type": "markdown",
   "metadata": {},
   "source": [
    "## Resumo:"
   ]
  },
  {
   "cell_type": "markdown",
   "metadata": {},
   "source": [
    "A linguagem de programação utilizada para a realização deste projeto foi python e este encontra-se no repositório ATP2021-a94916 do GitHub, na pasta TPC5. Esta pasta contém dois ficheiros: TPC5.ipynb e Manifesto(tpc5).ipynb.\n",
    "\n",
    "O ficheiro TPC5.ipynb contém o código fonte que resolve o problema proposto e oferece ao utilizador diversas funcionalidades relacionadas com polinómios."
   ]
  },
  {
   "cell_type": "markdown",
   "metadata": {},
   "source": [
    "Assim como no trabalho anterior nos foi proposta a realização de um menu interativo. Também desta vez o fiz só que desta vez com polinómios, 'brincando' com aquilo que eles têm para nos oferecer, desde a criação de uma tabela com os diversos resultados do polinómio, até ao cálculo da sua derivada."
   ]
  },
  {
   "cell_type": "markdown",
   "metadata": {},
   "source": [
    "* Sendo indispensável a criação de uma função **menu** que seja interativa com o utilizador, foi feita com as possibilidades de o user: **'criar um polinómio'**, sendo que aparece no monitor de uma forma agradável e fácil de ler. **Calcular o valor do polinómio** para um dado valor de x. Apresentar uma **tabela** com a quantidade de resultados do polinómio que o utilizador quiser. **Simplifiar o polinómio** caso não esteja já na sua forma mais simples e, por fim, calcula e mostra a **derivada do polinómio**."
   ]
  },
  {
   "cell_type": "markdown",
   "metadata": {},
   "source": [
    "* Por fim, cada uma destas funcionalidades está dividida em funções o que permite que o código esteja mais organizado e percetível.\n"
   ]
  }
 ],
 "metadata": {
  "kernelspec": {
   "display_name": "Python 3",
   "language": "python",
   "name": "python3"
  },
  "language_info": {
   "codemirror_mode": {
    "name": "ipython",
    "version": 3
   },
   "file_extension": ".py",
   "mimetype": "text/x-python",
   "name": "python",
   "nbconvert_exporter": "python",
   "pygments_lexer": "ipython3",
   "version": "3.8.3"
  }
 },
 "nbformat": 4,
 "nbformat_minor": 4
}
