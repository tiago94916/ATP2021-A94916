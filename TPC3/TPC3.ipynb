{
 "cells": [
  {
   "cell_type": "code",
   "execution_count": null,
   "metadata": {},
   "outputs": [],
   "source": [
    "from random import randint\n",
    "def bubble():\n",
    "    n = int(input('Introduza o número de elementos que deseja que a sua lista tenha: '))\n",
    "    lista=[]\n",
    "    for i in range (n):\n",
    "        elem = randint(0,100)\n",
    "        lista.append (elem)\n",
    "    print ('Esta é a lista de valores desordenada: ',lista)\n",
    "    \n",
    "    for j in range(len(lista)):\n",
    "        troca=False\n",
    "        j=0\n",
    "        while j<(len(lista)-1):\n",
    "            if lista[j] > lista[j+1]:\n",
    "                lista[j],lista[j+1] = lista[j+1],lista[j]\n",
    "                print(lista)\n",
    "                troca=True\n",
    "            j=j+1\n",
    "        if troca == False:\n",
    "                break\n",
    "    print('Esta é a lista ordenada: ',lista)\n",
    "        \n",
    "        \n",
    "        \n",
    "\n",
    "bubble()"
   ]
  }
 ],
 "metadata": {
  "kernelspec": {
   "display_name": "Python 3",
   "language": "python",
   "name": "python3"
  },
  "language_info": {
   "codemirror_mode": {
    "name": "ipython",
    "version": 3
   },
   "file_extension": ".py",
   "mimetype": "text/x-python",
   "name": "python",
   "nbconvert_exporter": "python",
   "pygments_lexer": "ipython3",
   "version": "3.8.3"
  }
 },
 "nbformat": 4,
 "nbformat_minor": 4
}
