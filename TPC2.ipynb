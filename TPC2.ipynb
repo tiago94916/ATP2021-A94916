{
 "cells": [
  {
   "cell_type": "code",
   "execution_count": null,
   "metadata": {},
   "outputs": [
    {
     "name": "stdout",
     "output_type": "stream",
     "text": [
      "----------------------------------\n",
      "    Vamos jogar ao adivinha\n",
      "----------------------------------\n"
     ]
    }
   ],
   "source": [
    "\n",
    "print('----------------------------------')\n",
    "print('    Vamos jogar ao adivinha')\n",
    "print('----------------------------------')\n",
    "\n",
    "numero = int(input('Escolhe um número de 0-100:  '))\n",
    "tentativa=0\n",
    "\n",
    "if numero > 100 or numero < 0:\n",
    "    print('ERRO!')\n",
    "else:\n",
    "    def jogo():\n",
    "        a=0\n",
    "        b=100\n",
    "        c=100/2\n",
    "        tentativa=1\n",
    "        print(\"Este é o teu numero?: \",c)\n",
    "        resposta=input(\"SIM OU NAO?: \")\n",
    "        resposta=resposta.upper()\n",
    "        while(resposta == \"NAO\"):\n",
    "            resposta1=input(\"O numero que pensaste é maior(+) ou menor(-)?: \")\n",
    "            \n",
    "            if (resposta1 == \"-\"):\n",
    "                b = c\n",
    "                \n",
    "            elif(resposta1 == \"+\"):\n",
    "                a = c  \n",
    "                \n",
    "            soma=a+b\n",
    "            c=int(soma/2)   \n",
    "            print(\"Este é o teu valor: \", c)\n",
    "            resposta=input(\"SIM OU NAO?: \")\n",
    "            resposta=resposta.upper()\n",
    "            tentativa+=1\n",
    "        \n",
    "        if(resposta==\"SIM\"):\n",
    "                print(\"Consegui!\") \n",
    "                print('Acertei em ',tentativa,'tentativa/s!')\n",
    "    jogo() "
   ]
  }
 ],
 "metadata": {
  "kernelspec": {
   "display_name": "Python 3",
   "language": "python",
   "name": "python3"
  },
  "language_info": {
   "codemirror_mode": {
    "name": "ipython",
    "version": 3
   },
   "file_extension": ".py",
   "mimetype": "text/x-python",
   "name": "python",
   "nbconvert_exporter": "python",
   "pygments_lexer": "ipython3",
   "version": "3.8.3"
  }
 },
 "nbformat": 4,
 "nbformat_minor": 4
}
