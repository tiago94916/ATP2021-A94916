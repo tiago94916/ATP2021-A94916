{
 "cells": [
  {
   "cell_type": "markdown",
   "metadata": {},
   "source": [
    "# ATP 2020/21\n",
    "\n",
    "# TPC 7 - Processamento de uma dataset\n",
    "\n",
    "* **Autor**: João Tiago Aleixo Ferreira\n",
    "* **Supervisor**: José Carlos Ramalho, www.di.uminho.pt/~jcr/\n",
    "* **Identificador**: TPC7\n",
    "* **Título**: \"Processamento de uma dataset\"\n",
    "* **Data início**: 2020-11-21\n",
    "* **Data fim**: 2020-11-28"
   ]
  },
  {
   "cell_type": "markdown",
   "metadata": {},
   "source": [
    "### Resumo: \n",
    "Este processamento de uma dataset com uma base de dados de vários alunos com os respetivos números curos e notas de trabalhos de casa permite-nos fazer várias coisas interessantes. Desde já, optamos por ordenar a lista de alunos (alfabeticamente) depois de ter limpo a base de dados. Depois optamos por criar várias funções como a de  consultar um determinado registo ver a disytibuição dos alunos por média e até por curso. Conseguimos também ver o top 10 de alunos no que toca às respetivas médias. Por fim criamos não só um gráfico de barras para facilitar a visualização da distribuição dos alunos por curso como também um gráfico de barras para ver a distribuição dos alunos pelas suas médias"
   ]
  },
  {
   "cell_type": "code",
   "execution_count": 3,
   "metadata": {},
   "outputs": [],
   "source": [
    "# Descreve em texto o teu modelo\n",
    "#\n",
    "#BdAlunos = [aluno]\n",
    "#Aluno = [id, nome, curso, [tpc1,tpc2,tpc3,tpc4]]\n",
    "#\n",
    "# Leitura/carregamento da informaçao do ficheiro\n",
    "\n",
    "def convInt(s):\n",
    "    return int(s)\n",
    "\n",
    "def getAluno (texto):\n",
    "    textoLimpo = texto.replace(\"\\\"\", \"\")  #como limpar a string de forma a limpar lhe as aspas\n",
    "    campos = textoLimpo.split(',')   #split transforma uma string numa lista de strings\n",
    "    aluno = []\n",
    "    aluno.append(campos[0])\n",
    "    aluno.append(campos[1])\n",
    "    aluno.append(campos[2])\n",
    "    aluno.append(campos[3:])\n",
    "    lista=[]\n",
    "    for s in aluno[3]:\n",
    "        s = lista.append(int(s))\n",
    "    aluno[3] = lista\n",
    "    return aluno\n",
    "    \n",
    "\n",
    "def lerDataset(fnome):\n",
    "    f = open (fnome,encoding=\"utf-8\")\n",
    "    bd = []\n",
    "    f.readline()\n",
    "    for linha in f:\n",
    "        bd.append(getAluno(linha))\n",
    "    return bd"
   ]
  },
  {
   "cell_type": "code",
   "execution_count": 4,
   "metadata": {},
   "outputs": [
    {
     "name": "stdout",
     "output_type": "stream",
     "text": [
      "[['a1', 'Aysha Melanie Gilberto', 'LEI', [12, 8, 19, 8]], ['a2', 'Igor André Cantanhede', 'ENGFIS', [12, 16, 18, 20]], ['a3', 'Laurénio Narciso', 'ENGFIS', [8, 14, 15, 14]], ['a4', 'Jasnoor Casegas', 'LCC', [14, 20, 17, 11]], ['a5', 'Tawseef Rebouças', 'ENGBIOM', [13, 14, 13, 17]], ['a6', 'Eryk Clementino', 'LEI', [10, 19, 11, 14]], ['a7', 'Ianna Noivo', 'ENGBIOM', [15, 15, 17, 16]], ['a8', 'Ayla Thaissa Reina', 'ENGBIOM', [12, 8, 8, 18]], ['a9', 'Cássia Viviane Coitã', 'ENGFIS', [19, 9, 14, 10]], ['a10', 'Koby Vindima', 'LEI', [9, 14, 20, 13]], ['a11', 'Gustavo Martim Hernandez', 'ENGBIOM', [11, 8, 14, 11]], ['a12', 'Siddarta Beiriz', 'LEI', [17, 10, 16, 16]], ['a13', 'Daniela Patrícia Montes', 'ENGBIOM', [15, 15, 18, 19]], ['a14', 'Kaylla Pessego', 'LCC', [10, 14, 17, 15]], ['a15', 'Bianca Cristina Primitivo', 'ENGBIOM', [16, 9, 18, 10]], ['a16', 'Magna Galhardo', 'ENGFIS', [20, 18, 9, 14]], ['a17', 'Grace Isabel Patriarca', 'LCC', [19, 13, 9, 10]], ['a18', 'Saubhagya Buco', 'LEI', [18, 18, 17, 8]], ['a19', 'Ivo Vicente Boisa', 'ENGBIOM', [14, 10, 18, 13]], ['a20', 'Vivaan Castilhos', 'ENGFIS', [15, 14, 11, 12]], ['a21', 'Layana Camejo', 'ENGFIS', [17, 12, 10, 20]], ['a22', 'Mahdi Menoita', 'ENGFIS', [11, 16, 8, 16]], ['a23', 'Yifan Cortinado', 'LEI', [19, 16, 8, 18]], ['a24', 'Éder Sodré', 'ENGFIS', [17, 13, 14, 12]], ['a25', 'Dhriti Magano', 'ENGFIS', [19, 11, 8, 19]], ['a26', 'Steve Devesa', 'ENGBIOM', [10, 16, 8, 13]], ['a27', 'Lisandro Mariano Picassinos', 'ENGFIS', [13, 10, 16, 10]], ['a28', 'Itiel Quinoy', 'LEI', [18, 18, 8, 9]], ['a29', 'Pranika Reimoo', 'LEI', [12, 16, 15, 13]], ['a30', 'Manaia Viseu', 'ENGFIS', [8, 12, 20, 11]], ['a31', 'Eva Manuel Caio', 'ENGFIS', [12, 16, 20, 16]], ['a32', 'Ariane Sofia Foja', 'LEI', [20, 19, 13, 18]], ['a33', 'Jaime António Pauseiro', 'LCC', [19, 13, 8, 10]], ['a34', 'Tanisha Marzagoo', 'ENGBIOM', [14, 19, 13, 14]], ['a35', 'Siyon Anca', 'LEI', [8, 13, 19, 15]], ['a36', 'Diana Beatriz Boavista', 'LCC', [19, 18, 17, 12]], ['a37', 'Elisiário Saberio', 'ENGFIS', [18, 18, 10, 19]], ['a38', 'Maira Brites', 'ENGFIS', [13, 16, 15, 17]], ['a39', 'Victória Gabriela Incenso', 'LEI', [17, 14, 13, 8]], ['a40', 'Najua Serôdio', 'LCC', [17, 9, 16, 18]], ['a41', 'Lachezar Rosas', 'ENGBIOM', [16, 18, 18, 15]], ['a42', 'Kattleya Trigueiro', 'ENGFIS', [19, 16, 14, 15]], ['a43', 'Tatiana Guiomar Maricoto', 'LCC', [19, 8, 15, 11]], ['a44', 'Mélanie Daniela Bugalhão', 'LCC', [17, 9, 17, 18]], ['a45', 'Imayame Hespanha', 'ENGFIS', [20, 17, 19, 11]], ['a46', 'Yuri Gabriel Baganha', 'LCC', [15, 18, 12, 16]], ['a47', 'Moisés João Cornelio', 'LEI', [20, 16, 19, 17]], ['a48', 'Nazir Assif Trinta', 'LEI', [14, 14, 12, 8]], ['a49', 'Karamjot Arezes', 'LEI', [10, 9, 20, 12]], ['a50', 'Rishit Justa', 'ENGBIOM', [9, 9, 9, 12]], ['a51', 'Iara de Jesus Gonçalo', 'ENGFIS', [14, 8, 12, 14]], ['a52', 'Stepfan Owusu Lercas', 'LEI', [18, 9, 16, 14]], ['a53', 'Abner Umbelina', 'ENGBIOM', [20, 16, 10, 13]], ['a54', 'Dânia Lucy Montelobo', 'LEI', [18, 19, 15, 11]], ['a55', 'Myla Lopez', 'ENGFIS', [9, 17, 12, 20]], ['a56', 'Hakeem Brazão', 'LEI', [18, 18, 13, 20]], ['a57', 'Quinn Aveiro', 'ENGBIOM', [17, 16, 9, 13]], ['a58', 'Etienne Constentino', 'ENGBIOM', [15, 8, 9, 13]], ['a59', 'Emanuel Marcos Delfina', 'LEI', [9, 15, 8, 13]], ['a60', 'Mariana Catarina Ramalheira', 'ENGBIOM', [17, 19, 19, 11]], ['a61', 'Bradley Tabau', 'LCC', [16, 19, 16, 12]], ['a62', 'Ahmadou Bamba Calcinha', 'LCC', [13, 20, 8, 16]], ['a63', 'Francisco Pedro Derresa', 'ENGFIS', [8, 12, 20, 18]], ['a64', 'Gil Miguel Lima', 'ENGBIOM', [16, 19, 8, 14]], ['a65', 'Leonor Pedro Carqueijeiro', 'ENGBIOM', [19, 11, 17, 8]], ['a66', 'Genrikh Maximovich Vila-Chã', 'ENGFIS', [12, 15, 13, 9]], ['a67', 'Mayra Larissa Rolo', 'LCC', [15, 14, 17, 12]], ['a68', 'Leandro David Dunhoo', 'ENGBIOM', [15, 14, 11, 15]], ['a69', 'Adele Belchior', 'ENGBIOM', [17, 12, 20, 12]], ['a70', 'Frantceska Borreca', 'ENGFIS', [18, 11, 19, 8]], ['a71', 'Derrick Urias', 'ENGFIS', [11, 10, 8, 14]], ['a72', 'Ana Gabriel Quirino', 'LCC', [10, 17, 8, 19]], ['a73', 'Carolina Antoo', 'ENGBIOM', [16, 19, 20, 10]], ['a74', 'Vânia Sofia Porfirio', 'ENGBIOM', [18, 19, 18, 15]], ['a75', 'Dárcio Wosvaldo Tudela', 'LEI', [8, 18, 9, 18]], ['a76', 'Zhara Couxão', 'ENGFIS', [16, 10, 14, 12]], ['a77', 'Tomé Ferrito', 'LCC', [14, 10, 15, 19]], ['a78', 'Iasmin Paloma Chaveiro', 'LCC', [8, 15, 19, 9]], ['a79', 'Sadagi Cruto', 'ENGBIOM', [13, 18, 14, 18]], ['a80', 'Maria Carolina Josué', 'ENGFIS', [17, 20, 17, 18]], ['a81', 'Quaresma Lancastre', 'ENGBIOM', [17, 9, 16, 19]], ['a82', 'Evaldir Gervasio', 'ENGFIS', [16, 19, 15, 8]], ['a83', 'Dolorinda Adolfo', 'ENGFIS', [11, 20, 16, 8]], ['a84', 'Laudário Frasão', 'LCC', [20, 19, 10, 19]], ['a85', 'Rómula Jeronimo', 'ENGFIS', [10, 13, 12, 11]], ['a86', 'Clésio Rodeiro', 'LCC', [9, 13, 12, 18]], ['a87', 'Feliciano José Avis', 'ENGFIS', [9, 11, 10, 9]], ['a88', 'Afonso Adriano Marca', 'ENGBIOM', [8, 16, 12, 15]], ['a89', 'Victória Miguel Rosete', 'ENGFIS', [8, 13, 13, 18]], ['a90', 'Tome Teroso', 'ENGFIS', [9, 9, 10, 17]], ['a91', 'Constança Filipa Melado', 'LEI', [10, 12, 8, 20]], ['a92', 'Madalena Jesus Alfaiate', 'LEI', [17, 14, 9, 17]], ['a93', 'Bivhan Reimbau', 'LCC', [17, 11, 8, 12]], ['a94', 'Viviana Sofia Gaspar', 'ENGBIOM', [16, 16, 20, 14]], ['a95', 'Íris Soraia Chiote', 'LEI', [11, 11, 17, 16]], ['a96', 'Anaïs Sintra', 'LCC', [19, 19, 12, 9]], ['a97', 'Salvador Banaca', 'LCC', [12, 9, 20, 12]], ['a98', 'Guilherme Matias Almeirão', 'ENGFIS', [14, 9, 12, 11]], ['a99', 'Xavier Luís Bulha', 'ENGFIS', [17, 13, 8, 10]], ['a100', 'Tude Searas', 'LEI', [20, 17, 8, 14]]]\n"
     ]
    }
   ],
   "source": [
    "BD = []\n",
    "BD = lerDataset(\"C:/Users/Tiaguini/Desktop/FACULDADE/2ºANO_1ºSEMESTRE/Alg_Tecn_Prog/TPC/TPC7/alunos.csv\")\n",
    "print (BD)"
   ]
  },
  {
   "cell_type": "code",
   "execution_count": 5,
   "metadata": {},
   "outputs": [
    {
     "name": "stdout",
     "output_type": "stream",
     "text": [
      "id     nome     curso     média\n",
      "--------------------------------\n",
      "a53|Abner Umbelina|ENGBIOM|14.75\n",
      "a69|Adele Belchior|ENGBIOM|15.25\n",
      "a88|Afonso Adriano Marca|ENGBIOM|12.75\n",
      "a62|Ahmadou Bamba Calcinha|LCC|14.25\n",
      "a72|Ana Gabriel Quirino|LCC|13.5\n",
      "a96|Anaïs Sintra|LCC|14.75\n",
      "a32|Ariane Sofia Foja|LEI|17.5\n",
      "a8|Ayla Thaissa Reina|ENGBIOM|11.5\n",
      "a1|Aysha Melanie Gilberto|LEI|11.75\n",
      "a15|Bianca Cristina Primitivo|ENGBIOM|13.25\n",
      "a93|Bivhan Reimbau|LCC|12.0\n",
      "a61|Bradley Tabau|LCC|15.75\n",
      "a73|Carolina Antoo|ENGBIOM|16.25\n",
      "a86|Clésio Rodeiro|LCC|13.0\n",
      "a91|Constança Filipa Melado|LEI|12.5\n",
      "a9|Cássia Viviane Coitã|ENGFIS|13.0\n",
      "a13|Daniela Patrícia Montes|ENGBIOM|16.75\n",
      "a71|Derrick Urias|ENGFIS|10.75\n",
      "a25|Dhriti Magano|ENGFIS|14.25\n",
      "a36|Diana Beatriz Boavista|LCC|16.5\n",
      "a83|Dolorinda Adolfo|ENGFIS|13.75\n",
      "a75|Dárcio Wosvaldo Tudela|LEI|13.25\n",
      "a54|Dânia Lucy Montelobo|LEI|15.75\n",
      "a37|Elisiário Saberio|ENGFIS|16.25\n",
      "a59|Emanuel Marcos Delfina|LEI|11.25\n",
      "a6|Eryk Clementino|LEI|13.5\n",
      "a58|Etienne Constentino|ENGBIOM|11.25\n",
      "a31|Eva Manuel Caio|ENGFIS|16.0\n",
      "a82|Evaldir Gervasio|ENGFIS|14.5\n",
      "a24|Éder Sodré|ENGFIS|14.0\n",
      "a87|Feliciano José Avis|ENGFIS|9.75\n",
      "a63|Francisco Pedro Derresa|ENGFIS|14.5\n",
      "a70|Frantceska Borreca|ENGFIS|14.0\n",
      "a66|Genrikh Maximovich Vila-Chã|ENGFIS|12.25\n",
      "a64|Gil Miguel Lima|ENGBIOM|14.25\n",
      "a17|Grace Isabel Patriarca|LCC|12.75\n",
      "a98|Guilherme Matias Almeirão|ENGFIS|11.5\n",
      "a11|Gustavo Martim Hernandez|ENGBIOM|11.0\n",
      "a56|Hakeem Brazão|LEI|17.25\n",
      "a7|Ianna Noivo|ENGBIOM|15.75\n",
      "a51|Iara de Jesus Gonçalo|ENGFIS|12.0\n",
      "a78|Iasmin Paloma Chaveiro|LCC|12.75\n",
      "a2|Igor André Cantanhede|ENGFIS|16.5\n",
      "a45|Imayame Hespanha|ENGFIS|16.75\n",
      "a28|Itiel Quinoy|LEI|13.25\n",
      "a19|Ivo Vicente Boisa|ENGBIOM|13.75\n",
      "a33|Jaime António Pauseiro|LCC|12.5\n",
      "a4|Jasnoor Casegas|LCC|15.5\n",
      "a49|Karamjot Arezes|LEI|12.75\n",
      "a42|Kattleya Trigueiro|ENGFIS|16.0\n",
      "a14|Kaylla Pessego|LCC|14.0\n",
      "a10|Koby Vindima|LEI|14.0\n",
      "a41|Lachezar Rosas|ENGBIOM|16.75\n",
      "a84|Laudário Frasão|LCC|17.0\n",
      "a3|Laurénio Narciso|ENGFIS|12.75\n",
      "a21|Layana Camejo|ENGFIS|14.75\n",
      "a68|Leandro David Dunhoo|ENGBIOM|13.75\n",
      "a65|Leonor Pedro Carqueijeiro|ENGBIOM|13.75\n",
      "a27|Lisandro Mariano Picassinos|ENGFIS|12.25\n",
      "a92|Madalena Jesus Alfaiate|LEI|14.25\n",
      "a16|Magna Galhardo|ENGFIS|15.25\n",
      "a22|Mahdi Menoita|ENGFIS|12.75\n",
      "a38|Maira Brites|ENGFIS|15.25\n",
      "a30|Manaia Viseu|ENGFIS|12.75\n",
      "a80|Maria Carolina Josué|ENGFIS|18.0\n",
      "a60|Mariana Catarina Ramalheira|ENGBIOM|16.5\n",
      "a67|Mayra Larissa Rolo|LCC|14.5\n",
      "a47|Moisés João Cornelio|LEI|18.0\n",
      "a55|Myla Lopez|ENGFIS|14.5\n",
      "a44|Mélanie Daniela Bugalhão|LCC|15.25\n",
      "a40|Najua Serôdio|LCC|15.0\n",
      "a48|Nazir Assif Trinta|LEI|12.0\n",
      "a29|Pranika Reimoo|LEI|14.0\n",
      "a81|Quaresma Lancastre|ENGBIOM|15.25\n",
      "a57|Quinn Aveiro|ENGBIOM|13.75\n",
      "a50|Rishit Justa|ENGBIOM|9.75\n",
      "a85|Rómula Jeronimo|ENGFIS|11.5\n",
      "a79|Sadagi Cruto|ENGBIOM|15.75\n",
      "a97|Salvador Banaca|LCC|13.25\n",
      "a18|Saubhagya Buco|LEI|15.25\n",
      "a12|Siddarta Beiriz|LEI|14.75\n",
      "a35|Siyon Anca|LEI|13.75\n",
      "a52|Stepfan Owusu Lercas|LEI|14.25\n",
      "a26|Steve Devesa|ENGBIOM|11.75\n",
      "a34|Tanisha Marzagoo|ENGBIOM|15.0\n",
      "a43|Tatiana Guiomar Maricoto|LCC|13.25\n",
      "a5|Tawseef Rebouças|ENGBIOM|14.25\n",
      "a90|Tome Teroso|ENGFIS|11.25\n",
      "a77|Tomé Ferrito|LCC|14.5\n",
      "a100|Tude Searas|LEI|14.75\n",
      "a39|Victória Gabriela Incenso|LEI|13.0\n",
      "a89|Victória Miguel Rosete|ENGFIS|13.0\n",
      "a20|Vivaan Castilhos|ENGFIS|13.0\n",
      "a94|Viviana Sofia Gaspar|ENGBIOM|16.5\n",
      "a74|Vânia Sofia Porfirio|ENGBIOM|17.5\n",
      "a99|Xavier Luís Bulha|ENGFIS|12.0\n",
      "a23|Yifan Cortinado|LEI|15.25\n",
      "a46|Yuri Gabriel Baganha|LCC|15.25\n",
      "a76|Zhara Couxão|ENGFIS|13.0\n",
      "a95|Íris Soraia Chiote|LEI|13.75\n"
     ]
    }
   ],
   "source": [
    "# Listagem da informaçao\n",
    "def chaveOrd(a):\n",
    "    return a[1]\n",
    "\n",
    "def listarDataset(bd):\n",
    "    bd.sort(key=chaveOrd)\n",
    "    print (\"id     nome     curso     média\")\n",
    "    print(\"--------------------------------\")\n",
    "    for a in bd:\n",
    "        print (a[0] + \"|\" + a[1] + \"|\" + a[2] + \"|\" + str((sum(a[3]))/len(a[3])))\n",
    "\n",
    "listarDataset(BD)"
   ]
  },
  {
   "cell_type": "code",
   "execution_count": 6,
   "metadata": {},
   "outputs": [
    {
     "name": "stdout",
     "output_type": "stream",
     "text": [
      "a99  |  Xavier Luís Bulha   |   ENGFIS   |   [17, 13, 8, 10]   |  12.0\n"
     ]
    }
   ],
   "source": [
    "# Consulta de um registo\n",
    "def consultarDataset(bd, id):\n",
    "    for a in bd:\n",
    "        if a[0]== id:\n",
    "            print(a[0] + '  |  ' +  a[1]+ '   |   ' + a[2]  + '   |   ' + str(a[3]) + '   |  ' + str((sum(a[3]))/len(a[3])))\n",
    "              \n",
    "\n",
    "consultarDataset(BD, 'a99')"
   ]
  },
  {
   "cell_type": "code",
   "execution_count": 7,
   "metadata": {},
   "outputs": [
    {
     "name": "stdout",
     "output_type": "stream",
     "text": [
      "a80  |  Maria Carolina Josué   |   ENGFIS   |  18.0\n",
      "a47  |  Moisés João Cornelio   |   LEI   |  18.0\n",
      "a32  |  Ariane Sofia Foja   |   LEI   |  17.5\n",
      "a74  |  Vânia Sofia Porfirio   |   ENGBIOM   |  17.5\n",
      "a56  |  Hakeem Brazão   |   LEI   |  17.25\n",
      "a84  |  Laudário Frasão   |   LCC   |  17.0\n",
      "a13  |  Daniela Patrícia Montes   |   ENGBIOM   |  16.75\n",
      "a45  |  Imayame Hespanha   |   ENGFIS   |  16.75\n",
      "a41  |  Lachezar Rosas   |   ENGBIOM   |  16.75\n",
      "a36  |  Diana Beatriz Boavista   |   LCC   |  16.5\n"
     ]
    }
   ],
   "source": [
    "# os top10 melhroes alunos\n",
    "\n",
    "def top10(bd):\n",
    "    novaBD=[]\n",
    "    for a in bd:\n",
    "        novoAluno= a\n",
    "        novoAluno[3]= (sum(a[3]))/len(a[3])\n",
    "        novaBD.append(novoAluno)\n",
    "    listaOrdenada= sorted(novaBD, key=lambda d: d[3], reverse=True)\n",
    "    i=0\n",
    "    while i<10:\n",
    "        a=listaOrdenada[i]\n",
    "        print(a[0] + '  |  ' +  a[1]+ '   |   ' + a[2]  + '   |  ' + str(a[3]))\n",
    "        i+=1\n",
    "        \n",
    "        \n",
    "top10(BD)"
   ]
  },
  {
   "cell_type": "code",
   "execution_count": 8,
   "metadata": {},
   "outputs": [
    {
     "name": "stdout",
     "output_type": "stream",
     "text": [
      "{'ENGBIOM': 25, 'LCC': 20, 'LEI': 23, 'ENGFIS': 32}\n"
     ]
    }
   ],
   "source": [
    "def distribPorCurso(bd):   \n",
    "    distribuicao={}\n",
    "    for  a in bd:\n",
    "        if a[2] in distribuicao.keys():\n",
    "            distribuicao[a[2]]= distribuicao[a[2]] + 1\n",
    "        else:\n",
    "            distribuicao[a[2]]= 1\n",
    "            \n",
    "    return distribuicao\n",
    "\n",
    "mydistrib= distribPorCurso(BD)\n",
    "print(mydistrib)"
   ]
  },
  {
   "cell_type": "code",
   "execution_count": 15,
   "metadata": {},
   "outputs": [
    {
     "name": "stdout",
     "output_type": "stream",
     "text": [
      "{14.75: 5, 15.25: 8, 12.75: 7, 14.25: 6, 13.5: 2, 17.5: 2, 11.5: 3, 11.75: 2, 13.25: 5, 12.0: 4, 15.75: 4, 16.25: 2, 13.0: 6, 12.5: 2, 16.75: 3, 10.75: 1, 16.5: 4, 13.75: 7, 11.25: 3, 16.0: 2, 14.5: 5, 14.0: 5, 9.75: 2, 12.25: 2, 11.0: 1, 17.25: 1, 15.5: 1, 17.0: 1, 18.0: 2, 15.0: 2}\n"
     ]
    }
   ],
   "source": [
    "def distribPorMedia(bd): \n",
    "    novaBD=[]\n",
    "    for a in bd:\n",
    "        novoAluno = a\n",
    "        novaBD.append(novoAluno[3])\n",
    "    novaBD.sort()\n",
    "    distribuicao= {}\n",
    "    for a in bd:\n",
    "        if a[3] in distribuicao.keys():\n",
    "\n",
    "            distribuicao[a[3]]+=1\n",
    "        else:\n",
    "\n",
    "            distribuicao[a[3]]=1\n",
    "    return distribuicao\n",
    "distribmedia = distribPorMedia(BD)\n",
    "print(distribmedia)\n"
   ]
  },
  {
   "cell_type": "code",
   "execution_count": 17,
   "metadata": {},
   "outputs": [
    {
     "data": {
      "image/png": "[encoded data removed]",
      "text/plain": [
       "<Figure size 432x288 with 1 Axes>"
      ]
     },
     "metadata": {
      "needs_background": "light"
     },
     "output_type": "display_data"
    }
   ],
   "source": [
    "#grafico de barras com a distribuição dos alunos pelo curso em que estão\n",
    "\n",
    "import matplotlib.pyplot as plt\n",
    "\n",
    "def plotDistribPorCurso(bd):\n",
    "    distribuicao=distribPorCurso(bd)\n",
    " \n",
    "    x = list(range(1,len(distribuicao.keys())+1))\n",
    "    y = list(distribuicao.values())\n",
    "\n",
    "    cursos = list(distribuicao.keys())\n",
    "\n",
    "    plt.bar(x, y, tick_label = cursos,\n",
    "            width = 0.8, color = ['black','red'])\n",
    "\n",
    "    plt.xlabel('Cursos')\n",
    "    plt.ylabel('Nº alunos')\n",
    "    plt.title('Distribuição por cursos')\n",
    "\n",
    "\n",
    "    plt.show()\n",
    "\n",
    "plotDistribPorCurso(BD)"
   ]
  },
  {
   "cell_type": "code",
   "execution_count": 18,
   "metadata": {},
   "outputs": [
    {
     "data": {
      "image/png": "[encoded data removed]",
      "text/plain": [
       "<Figure size 432x288 with 1 Axes>"
      ]
     },
     "metadata": {
      "needs_background": "light"
     },
     "output_type": "display_data"
    }
   ],
   "source": [
    "def plotDistribPorMedia(bd):\n",
    "    \n",
    "    distribuicao=distribPorMedia(bd)\n",
    " \n",
    "    x = list(range(1,len(distribuicao.keys())+1))\n",
    "    y = list(distribuicao.values())\n",
    "    medias = list(distribuicao.keys())\n",
    "\n",
    "    plt.bar(x, y, tick_label = medias,\n",
    "            width = 0.8, color = ['black','red'])\n",
    "\n",
    "    plt.xlabel('Médias')\n",
    "    plt.ylabel('Nº alunos')\n",
    "    plt.title('Distribuição por média')\n",
    "    plt.xticks(rotation=90)\n",
    "\n",
    "\n",
    "    plt.show()\n",
    "\n",
    "plotDistribPorMedia(BD)"
   ]
  }
 ],
 "metadata": {
  "interpreter": {
   "hash": "29d378c6f9f9303028c651f034ce8b915ddf31b448ad445ead3b2b3c8d60aef3"
  },
  "kernelspec": {
   "display_name": "Python 3",
   "language": "python",
   "name": "python3"
  },
  "language_info": {
   "codemirror_mode": {
    "name": "ipython",
    "version": 3
   },
   "file_extension": ".py",
   "mimetype": "text/x-python",
   "name": "python",
   "nbconvert_exporter": "python",
   "pygments_lexer": "ipython3",
   "version": "3.8.3"
  }
 },
 "nbformat": 4,
 "nbformat_minor": 2
}
